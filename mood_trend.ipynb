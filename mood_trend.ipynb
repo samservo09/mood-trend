{
  "cells": [
    {
      "cell_type": "markdown",
      "source": [
        "# Mood Trend Prediction"
      ],
      "metadata": {
        "id": "E6lAC66PECTx"
      }
    },
    {
      "cell_type": "markdown",
      "source": [
        "A notebook that will take your mood data from Daylio app and make predictions based on it using a machine learning model."
      ],
      "metadata": {
        "id": "hBpMyEdvEHTe"
      }
    },
    {
      "cell_type": "markdown",
      "source": [
        "## Problem Statement"
      ],
      "metadata": {
        "id": "3R_RsQRsEaRM"
      }
    },
    {
      "cell_type": "markdown",
      "source": [
        "**Objective:** To predict what mood would the user be for the next days. <br> A dashboard summarizing this can also help which is focused on people with Bipolar Disorder."
      ],
      "metadata": {
        "id": "vFRWCIhhEgJa"
      }
    },
    {
      "cell_type": "code",
      "execution_count": null,
      "metadata": {
        "id": "Q6HvfYMIDZXA"
      },
      "outputs": [],
      "source": []
    },
    {
      "cell_type": "markdown",
      "source": [
        "## Data Preparation"
      ],
      "metadata": {
        "id": "95AD4qUkFxBF"
      }
    },
    {
      "cell_type": "code",
      "source": [],
      "metadata": {
        "id": "Ka9mzsTVF1Nn"
      },
      "execution_count": null,
      "outputs": []
    },
    {
      "cell_type": "markdown",
      "source": [
        "## Exploratory Data Analysis"
      ],
      "metadata": {
        "id": "vdXWLcqfF1wF"
      }
    },
    {
      "cell_type": "code",
      "source": [],
      "metadata": {
        "id": "HIvZPkemF7iW"
      },
      "execution_count": null,
      "outputs": []
    },
    {
      "cell_type": "markdown",
      "source": [
        "## Data Preprocessing"
      ],
      "metadata": {
        "id": "NalonupGF8Ii"
      }
    },
    {
      "cell_type": "code",
      "source": [],
      "metadata": {
        "id": "iCoaBmY5GBUE"
      },
      "execution_count": null,
      "outputs": []
    },
    {
      "cell_type": "markdown",
      "source": [
        "## Select and Train a Model"
      ],
      "metadata": {
        "id": "f8C8nODeGB5L"
      }
    },
    {
      "cell_type": "code",
      "source": [],
      "metadata": {
        "id": "Vl-URmdWGL9m"
      },
      "execution_count": null,
      "outputs": []
    },
    {
      "cell_type": "markdown",
      "source": [
        "## Fine Tuning"
      ],
      "metadata": {
        "id": "ViF58SsQGN-Z"
      }
    },
    {
      "cell_type": "code",
      "source": [],
      "metadata": {
        "id": "mWu1cWk8GQyu"
      },
      "execution_count": null,
      "outputs": []
    }
  ],
  "metadata": {
    "language_info": {
      "name": "python"
    },
    "colab": {
      "provenance": []
    },
    "kernelspec": {
      "name": "python3",
      "display_name": "Python 3"
    }
  },
  "nbformat": 4,
  "nbformat_minor": 0
}