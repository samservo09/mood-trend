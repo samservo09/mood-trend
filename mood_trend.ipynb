{
  "cells": [
    {
      "cell_type": "markdown",
      "source": [
        "# Mood Trend Prediction"
      ],
      "metadata": {
        "id": "E6lAC66PECTx"
      }
    },
    {
      "cell_type": "markdown",
      "source": [
        "A notebook that will take your mood data from Daylio app and make predictions based on it using a machine learning model."
      ],
      "metadata": {
        "id": "hBpMyEdvEHTe"
      }
    },
    {
      "cell_type": "markdown",
      "source": [
        "## Problem Statement"
      ],
      "metadata": {
        "id": "3R_RsQRsEaRM"
      }
    },
    {
      "cell_type": "markdown",
      "source": [
        "**Objective:** To predict what mood would the user be for the next days. <br> A dashboard summarizing this can also help which is focused on people with Bipolar Disorder."
      ],
      "metadata": {
        "id": "vFRWCIhhEgJa"
      }
    },
    {
      "cell_type": "markdown",
      "source": [
        "**Performance Measure:** RMSE and MAE"
      ],
      "metadata": {
        "id": "RjtqXECkG4Hd"
      }
    },
    {
      "cell_type": "markdown",
      "source": [
        "**Assumption:** This is a regression problem because my data is daily. I need to get the scale of my mood each day and predict patterns to help me with my bipolar disorder."
      ],
      "metadata": {
        "id": "tUwCWWPHHpAb"
      }
    },
    {
      "cell_type": "markdown",
      "source": [
        "## Data Preparation"
      ],
      "metadata": {
        "id": "95AD4qUkFxBF"
      }
    },
    {
      "cell_type": "code",
      "source": [
        "# get the data from daylio app\n",
        "import pandas as pd\n",
        "import numpy as np\n",
        "\n"
      ],
      "metadata": {
        "id": "Ka9mzsTVF1Nn"
      },
      "execution_count": null,
      "outputs": []
    },
    {
      "cell_type": "code",
      "source": [
        "# look at the data structure\n",
        "# head\n",
        "# info\n",
        "# value_counts\n",
        "# describe\n",
        "# plot a histogram for each numerical attribute"
      ],
      "metadata": {
        "id": "K9VBBR-tItCz"
      },
      "execution_count": null,
      "outputs": []
    },
    {
      "cell_type": "code",
      "source": [
        "# create a test set"
      ],
      "metadata": {
        "id": "1cjiWHNhI9f1"
      },
      "execution_count": null,
      "outputs": []
    },
    {
      "cell_type": "markdown",
      "source": [
        "## Exploratory Data Analysis"
      ],
      "metadata": {
        "id": "vdXWLcqfF1wF"
      }
    },
    {
      "cell_type": "code",
      "source": [
        "# make a copy of the original"
      ],
      "metadata": {
        "id": "HIvZPkemF7iW"
      },
      "execution_count": null,
      "outputs": []
    },
    {
      "cell_type": "code",
      "source": [
        "# visualize data"
      ],
      "metadata": {
        "id": "9ARuHy2xJEOA"
      },
      "execution_count": null,
      "outputs": []
    },
    {
      "cell_type": "code",
      "source": [
        "# look for correlatiosn"
      ],
      "metadata": {
        "id": "AU4hBSnmJFYu"
      },
      "execution_count": null,
      "outputs": []
    },
    {
      "cell_type": "code",
      "source": [
        "# experiment with attribute combinations"
      ],
      "metadata": {
        "id": "Y3sCQEiOJHk3"
      },
      "execution_count": null,
      "outputs": []
    },
    {
      "cell_type": "markdown",
      "source": [
        "## Data Preprocessing"
      ],
      "metadata": {
        "id": "NalonupGF8Ii"
      }
    },
    {
      "cell_type": "markdown",
      "source": [
        "1. Get rid of the corresponding districts. <br>\n",
        "2. Get rid of the whole attribute.<br>\n",
        "3. Set the missing values to some value (zero, the mean, the median, etc.).<br>\n",
        "This is called imputation."
      ],
      "metadata": {
        "id": "QjI2wU6UJUOD"
      }
    },
    {
      "cell_type": "code",
      "source": [
        "# clean the data\n"
      ],
      "metadata": {
        "id": "iCoaBmY5GBUE"
      },
      "execution_count": null,
      "outputs": []
    },
    {
      "cell_type": "code",
      "source": [
        "# handle text and categorical attributes"
      ],
      "metadata": {
        "id": "a8aR-et9JPpg"
      },
      "execution_count": null,
      "outputs": []
    },
    {
      "cell_type": "code",
      "source": [
        "# feature scaling and transformation"
      ],
      "metadata": {
        "id": "2HZgKJDHJfNX"
      },
      "execution_count": null,
      "outputs": []
    },
    {
      "cell_type": "code",
      "source": [
        "# transformation pipelines"
      ],
      "metadata": {
        "id": "P56w5UsNJlS6"
      },
      "execution_count": null,
      "outputs": []
    },
    {
      "cell_type": "markdown",
      "source": [
        "## Select and Train a Model"
      ],
      "metadata": {
        "id": "f8C8nODeGB5L"
      }
    },
    {
      "cell_type": "code",
      "source": [
        "# use pycaret for model selection ha"
      ],
      "metadata": {
        "id": "arXxE2doJvGu"
      },
      "execution_count": null,
      "outputs": []
    },
    {
      "cell_type": "code",
      "source": [
        "# train and evaluate on the training set"
      ],
      "metadata": {
        "id": "Vl-URmdWGL9m"
      },
      "execution_count": null,
      "outputs": []
    },
    {
      "cell_type": "code",
      "source": [
        "# better evaluation using cross-validation"
      ],
      "metadata": {
        "id": "ltj5k6AUJpjp"
      },
      "execution_count": null,
      "outputs": []
    },
    {
      "cell_type": "code",
      "source": [],
      "metadata": {
        "id": "YRrVhR28Jr2l"
      },
      "execution_count": null,
      "outputs": []
    },
    {
      "cell_type": "markdown",
      "source": [
        "## Fine Tuning"
      ],
      "metadata": {
        "id": "ViF58SsQGN-Z"
      }
    },
    {
      "cell_type": "code",
      "source": [
        "# grid search"
      ],
      "metadata": {
        "id": "mWu1cWk8GQyu"
      },
      "execution_count": null,
      "outputs": []
    },
    {
      "cell_type": "code",
      "source": [
        "# analyze best models and their errors"
      ],
      "metadata": {
        "id": "TxuSdcLcJ2ap"
      },
      "execution_count": null,
      "outputs": []
    },
    {
      "cell_type": "code",
      "source": [
        "# evaluate your model on the test set"
      ],
      "metadata": {
        "id": "LfjzrwCbJ4HT"
      },
      "execution_count": null,
      "outputs": []
    }
  ],
  "metadata": {
    "language_info": {
      "name": "python"
    },
    "colab": {
      "provenance": []
    },
    "kernelspec": {
      "name": "python3",
      "display_name": "Python 3"
    }
  },
  "nbformat": 4,
  "nbformat_minor": 0
}